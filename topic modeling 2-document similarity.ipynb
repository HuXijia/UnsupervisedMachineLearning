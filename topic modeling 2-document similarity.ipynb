{
 "cells": [
  {
   "cell_type": "code",
   "execution_count": 1,
   "metadata": {},
   "outputs": [],
   "source": [
    "import pandas as pd\n",
    "import csv"
   ]
  },
  {
   "cell_type": "code",
   "execution_count": 2,
   "metadata": {},
   "outputs": [],
   "source": [
    "glencore = pd.read_csv('glencorePR.csv', delimiter = ',')"
   ]
  },
  {
   "cell_type": "code",
   "execution_count": 3,
   "metadata": {},
   "outputs": [],
   "source": [
    "glencore = glencore.drop(['_source.title', '_score', '_source.doctype', '_type', '_index', '_source.url', '_source.feedurl'], axis = 1)\n",
    "glencore = glencore.rename(index=str, columns={\"_source.title_rss\": \"title\", \"_source.teaser_rss\": \"content\"})"
   ]
  },
  {
   "cell_type": "code",
   "execution_count": 4,
   "metadata": {},
   "outputs": [],
   "source": [
    "contents = []\n",
    "contents = glencore.content.astype(str)\n",
    "#to extract content of PR release, and tokenize"
   ]
  },
  {
   "cell_type": "code",
   "execution_count": 5,
   "metadata": {},
   "outputs": [
    {
     "name": "stdout",
     "output_type": "stream",
     "text": [
      "showing info https://raw.githubusercontent.com/nltk/nltk_data/gh-pages/index.xml\n"
     ]
    },
    {
     "data": {
      "text/plain": [
       "True"
      ]
     },
     "execution_count": 5,
     "metadata": {},
     "output_type": "execute_result"
    }
   ],
   "source": [
    "import nltk\n",
    "nltk.download()"
   ]
  },
  {
   "cell_type": "code",
   "execution_count": 9,
   "metadata": {},
   "outputs": [],
   "source": [
    "texts_lower = [[word for word in document.lower().split()] for document in contents]"
   ]
  },
  {
   "cell_type": "code",
   "execution_count": 12,
   "metadata": {},
   "outputs": [],
   "source": [
    "from nltk.tokenize import word_tokenize\n",
    "texts_tokenized = [[word.lower() for word in word_tokenize(document)] for document in contents]"
   ]
  },
  {
   "cell_type": "code",
   "execution_count": 13,
   "metadata": {},
   "outputs": [],
   "source": [
    "from nltk.corpus import stopwords\n",
    "english_stopwords = stopwords.words('english')"
   ]
  },
  {
   "cell_type": "code",
   "execution_count": 18,
   "metadata": {},
   "outputs": [
    {
     "name": "stdout",
     "output_type": "stream",
     "text": [
      "['<', '!', '[', 'cdata', '[', '<', 'p', '>', 'glencore', 'plc', 'today', 'announced', 'board', 'recommending', 'aggregate', 'distribution', 'us', '$', '0.20', 'per', 'share', 'respect', '2017', 'financial', 'year', 'ended', '31', 'december.', '<', '/p', '>', '<', 'p', '>', 'distributions', 'declared', 'paid', 'u.s.', 'dollars', ',', 'although', 'shareholders', 'jersey', 'register', 'able', 'elect', 'receive', 'distribution', 'payments', 'pounds', 'sterling', ',', 'euros', 'swiss', 'francs', '.', 'shareholders', 'hold', 'shares', 'jersey', 'register', ',', 'computershare', 'hk', 'nominee', ',', 'receive', 'distribution', 'payment', 'hong', 'kong', 'dollars', ',', 'converted', 'jersey', 'applicable', 'exchange', 'rate', 'reference', 'date', '.', 'shareholders', 'johannesburg', 'register', 'receive', 'distributions', 'south', 'african', 'rand.', '<', '/p', '>', '<', 'p', '>', 'subject', 'shareholder', 'approval', ',', 'distribution', 'made', 'capital', 'contribution', 'reserves', 'company', 'two', 'equal', 'tranches', '$', '0.10', 'payable', 'first', 'six', 'months', '2018', 'financial', 'year', '(', 'h1', ')', 'second', 'six', 'months', '2018', 'financial', 'year', '(', 'h2', ')', 'accordance', 'following', ':', '<', '/p', '>', '<', 'h4', '>', 'h1', 'distribution', 'timetable', '<', '/h4', '>', '<', 'table', 'cellpadding=', \"''\", '0', \"''\", 'cellspacing=', \"''\", '0', \"''\", 'style=', \"''\", 'width', ':', '100', '%', ';', \"''\", '>', '<', 'tbody', '>', '<', 'tr', '>', '<', 'td', 'valign=', \"''\", 'top', \"''\", '>', '<', 'p', '>', '<', 'strong', '>', 'distribution', 'event', '<', '/strong', '>', '<', '/p', '>', '<', '/td', '>', '<', 'td', 'valign=', \"''\", 'top', \"''\", '>', '<', 'p', '>', '<', 'strong', '>', 'date', '(', '2018', ')', '<', '/strong', '>', '<', '/p', '>', '<', '/td', '>', '<', '/tr', '>', '<', 'tr', '>', '<', 'td', 'valign=', \"''\", 'top', \"''\", '>', '<', 'p', '>', 'applicable', 'exchange', 'rate', 'reference', 'date', '(', 'johannesburg', 'stock', 'exchange', '(', 'jse', ')', ')', '<', '/p', '>', '<', '/td', '>', '<', 'td', 'valign=', \"''\", 'top', \"''\", '>', '<', 'p', '>', 'close', 'business', '(', 'uk', ')', 'thursday', '12', 'april', '<', '/p', '>', '<', '/td', '>', '<', '/tr', '>', '<', 'tr', '>', '<', 'td', 'valign=', \"''\", 'top', \"''\", '>', '<', 'p', '>', 'applicable', 'exchange', 'rate', 'announced', 'jse', '<', '/p', '>', '<', '/td', '>', '<', 'td', 'valign=', \"''\", 'top', \"''\", '>', '<', 'p', '>', 'friday', '13', 'april', '<', '/p', '>', '<', '/td', '>', '<', '/tr', '>', '<', 'tr', '>', '<', 'td', 'valign=', \"''\", 'top', \"''\", '>', '<', 'p', '>', 'last', 'day', 'effect', 'removal', 'shares', 'cum', 'distribution', 'jersey', 'jse', 'registers', 'commencement', 'trade', '<', '/p', '>', '<', '/td', '>', '<', 'td', 'valign=', \"''\", 'top', \"''\", '>', '<', 'p', '>', 'friday', '13', 'april', '<', '/p', '>', '<', '/td', '>', '<', '/tr', '>', '<', 'tr', '>', '<', 'td', 'valign=', \"''\", 'top', \"''\", '>', '<', 'p', '>', 'last', 'time', 'trade', 'jse', 'recorded', 'register', 'record', 'date', '<', '/p', '>', '<', '/td', '>', '<', 'td', 'valign=', \"''\", 'top', \"''\", '>', '<', 'p', '>', 'close', 'business', '(', 'sa', ')', 'monday', '23', 'april', '<', '/p', '>', '<', '/td', '>', '<', '/tr', '>', '<', 'tr', '>', '<', 'td', 'valign=', \"''\", 'top', \"''\", '>', '<', 'p', '>', 'h1', 'ex-distribution', 'date', '(', 'jse', ')', '<', '/p', '>', '<', '/td', '>', '<', 'td', 'valign=', \"''\", 'top', \"''\", '>', '<', 'p', '>', 'tuesday', '24', 'april', '<', '/p', '>', '<', '/td', '>', '<', '/tr', '>', '<', 'tr', '>', '<', 'td', 'valign=', \"''\", 'top', \"''\", '>', '<', 'p', '>', 'h1', 'ex-distribution', 'date', '(', 'jersey', ')', '<', '/p', '>', '<', '/td', '>', '<', 'td', 'valign=', \"''\", 'top', \"''\", '>', '<', 'p', '>', 'thursday', '26', 'april', '<', '/p', '>', '<', '/td', '>', '<', '/tr', '>', '<', 'tr', '>', '<', 'td', 'valign=', \"''\", 'top', \"''\", '>', '<', 'p', '>', 'h1', 'distribution', 'record', 'date', 'jse', '<', '/p', '>', '<', '/td', '>', '<', 'td', 'valign=', \"''\", 'top', \"''\", '>', '<', 'p', '>', 'close', 'business', '(', 'sa', ')', 'thursday', '26', 'april', '<', '/p', '>', '<', '/td', '>', '<', '/tr', '>', '<', 'tr', '>', '<', 'td', 'valign=', \"''\", 'top', \"''\", '>', '<', 'p', '>', 'h1', 'distribution', 'record', 'date', 'jersey', '<', '/p', '>', '<', '/td', '>', '<', 'td', 'valign=', \"''\", 'top', \"''\", '>', '<', 'p', '>', 'close', 'business', '(', 'uk', ')', 'friday', '27', 'april', '<', '/p', '>', '<', '/td', '>', '<', '/tr', '>', '<', 'tr', '>', '<', 'td', 'valign=', \"''\", 'top', \"''\", '>', '<', 'p', '>', 'deadline', 'return', 'currency', 'election', 'form', '(', 'shareholders', 'jersey', 'register', ')', '<', '/p', '>', '<', '/td', '>', '<', 'td', 'valign=', \"''\", 'top', \"''\", '>', '<', 'p', '>', 'monday', '30', 'april', '<', '/p', '>', '<', '/td', '>', '<', '/tr', '>', '<', 'tr', '>', '<', 'td', 'valign=', \"''\", 'top', \"''\", '>', '<', 'p', '>', 'removal', 'shares', 'jersey', 'jse', 'registers', 'permissible', '<', '/p', '>', '<', '/td', '>', '<', 'td', 'valign=', \"''\", 'top', \"''\", '>', '<', 'p', '>', 'monday', '30', 'april', '<', '/p', '>', '<', '/td', '>', '<', '/tr', '>', '<', 'tr', '>', '<', 'td', 'valign=', \"''\", 'top', \"''\", '>', '<', 'p', '>', 'applicable', 'exchange', 'rate', 'reference', 'date', '(', 'jersey', ')', '<', '/p', '>', '<', '/td', '>', '<', 'td', 'valign=', \"''\", 'top', \"''\", '>', '<', 'p', '>', 'wednesday', '2', 'may', '<', '/p', '>', '<', '/td', '>', '<', '/tr', '>', '<', 'tr', '>', '<', 'td', 'valign=', \"''\", 'top', \"''\", '>', '<', 'p', '>', 'annual', 'general', 'meeting', '&', 'ndash', ';', 'shareholder', 'vote', 'approve', 'aggregate', '2018', 'distribution', '<', '/p', '>', '<', '/td', '>', '<', 'td', 'valign=', \"''\", 'top', \"''\", '>', '<', 'p', '>', 'wednesday', '2', 'may', '<', '/p', '>', '<', '/td', '>', '<', '/tr', '>', '<', 'tr', '>', '<', 'td', 'valign=', \"''\", 'top', \"''\", '>', '<', 'p', '>', 'h1', 'distribution', 'payment', 'date', '<', '/p', '>', '<', '/td', '>', '<', 'td', 'valign=', \"''\", 'top', \"''\", '>', '<', 'p', '>', 'wednesday', '23', 'may', '<', '/p', '>', '<', '/td', '>', '<', '/tr', '>', '<', '/tbody', '>', '<', '/table', '>', '<', 'p', '>', 'dematerialisation', 'rematerialisation', 'registered', 'share', 'certificates', 'south', 'africa', 'may', 'effected', 'period', 'tuesday', '24', 'april', '2018', 'thursday', '26', 'april', '2018', ',', 'days', 'inclusive.', '<', '/p', '>', '<', 'h4', '>', 'h2', 'distribution', 'timetable', '<', 'strong', '>', '&', 'nbsp', ';', '<', '/strong', '>', '<', '/h4', '>', '<', 'table', 'cellpadding=', \"''\", '0', \"''\", 'cellspacing=', \"''\", '0', \"''\", '>', '<', 'tbody', '>', '<', 'tr', '>', '<', 'td', 'valign=', \"''\", 'top', \"''\", '>', '<', 'p', '>', '<', 'strong', '>', 'distribution', 'event', '<', '/strong', '>', '<', '/p', '>', '<', '/td', '>', '<', 'td', 'valign=', \"''\", 'top', \"''\", '>', '<', 'p', '>', '<', 'strong', '>', 'date', '(', '2018', ')', '<', '/strong', '>', '<', '/p', '>', '<', '/td', '>', '<', '/tr', '>', '<', 'tr', '>', '<', 'td', 'valign=', \"''\", 'top', \"''\", '>', '<', 'p', '>', 'applicable', 'exchange', 'rate', 'reference', 'date', '(', 'jse', ')', '<', '/p', '>', '<', '/td', '>', '<', 'td', 'valign=', \"''\", 'top', \"''\", '>', '<', 'p', '>', 'close', 'business', '(', 'uk', ')', 'monday', '27', 'august', '<', '/p', '>', '<', '/td', '>', '<', '/tr', '>', '<', 'tr', '>', '<', 'td', 'valign=', \"''\", 'top', \"''\", '>', '<', 'p', '>', 'applicable', 'exchange', 'rate', 'announced', 'jse', '<', '/p', '>', '<', '/td', '>', '<', 'td', 'valign=', \"''\", 'top', \"''\", '>', '<', 'p', '>', 'tuesday', '28', 'august', '<', '/p', '>', '<', '/td', '>', '<', '/tr', '>', '<', 'tr', '>', '<', 'td', 'valign=', \"''\", 'top', \"''\", '>', '<', 'p', '>', 'last', 'day', 'effect', 'removal', 'shares', 'cum', 'distribution', 'jersey', 'jse', 'registers', 'commencement', 'trade', '<', '/p', '>', '<', '/td', '>', '<', 'td', 'valign=', \"''\", 'top', \"''\", '>', '<', 'p', '>', 'tuesday', '28', 'august', '<', '/p', '>', '<', '/td', '>', '<', '/tr', '>', '<', 'tr', '>', '<', 'td', 'valign=', \"''\", 'top', \"''\", '>', '<', 'p', '>', 'last', 'time', 'trade', 'jse', 'recorded', 'register', 'record', 'date', '<', '/p', '>', '<', '/td', '>', '<', 'td', 'valign=', \"''\", 'top', \"''\", '>', '<', 'p', '>', 'close', 'business', '(', 'sa', ')', 'tuesday', '4', 'september', '<', '/p', '>', '<', '/td', '>', '<', '/tr', '>', '<', 'tr', '>', '<', 'td', 'valign=', \"''\", 'top', \"''\", '>', '<', 'p', '>', 'h2', 'ex-distribution', 'date', '(', 'jse', ')', '<', '/p', '>', '<', '/td', '>', '<', 'td', 'valign=', \"''\", 'top', \"''\", '>', '<', 'p', '>', 'wednesday', '5', 'september', '<', '/p', '>', '<', '/td', '>', '<', '/tr', '>', '<', 'tr', '>', '<', 'td', 'valign=', \"''\", 'top', \"''\", '>', '<', 'p', '>', 'h2', 'ex-distribution', 'date', '(', 'jersey', ')', '<', '/p', '>', '<', '/td', '>', '<', 'td', 'valign=', \"''\", 'top', \"''\", '>', '<', 'p', '>', 'thursday', '6', 'september', '<', '/p', '>', '<', '/td', '>', '<', '/tr', '>', '<', 'tr', '>', '<', 'td', 'valign=', \"''\", 'top', \"''\", '>', '<', 'p', '>', 'h2', 'distribution', 'record', 'date', 'jse', '<', '/p', '>', '<', '/td', '>', '<', 'td', 'valign=', \"''\", 'top', \"''\", '>', '<', 'p', '>', 'close', 'business', '(', 'sa', ')', 'friday', '7', 'september', '<', '/p', '>', '<', '/td', '>', '<', '/tr', '>', '<', 'tr', '>', '<', 'td', 'valign=', \"''\", 'top', \"''\", '>', '<', 'p', '>', 'h2', 'distribution', 'record', 'date', 'jersey', '<', '/p', '>', '<', '/td', '>', '<', 'td', 'valign=', \"''\", 'top', \"''\", '>', '<', 'p', '>', 'close', 'business', '(', 'uk', ')', 'friday', '7', 'september', '<', '/p', '>', '<', '/td', '>', '<', '/tr', '>', '<', 'tr', '>', '<', 'td', 'valign=', \"''\", 'top', \"''\", '>', '<', 'p', '>', 'deadline', 'return', 'currency', 'election', 'form', '(', 'shareholders', 'jersey', 'register', ')', '<', '/p', '>', '<', '/td', '>', '<', 'td', 'valign=', \"''\", 'top', \"''\", '>', '<', 'p', '>', 'monday', '10', 'september', '<', '/p', '>', '<', '/td', '>', '<', '/tr', '>', '<', 'tr', '>', '<', 'td', 'valign=', \"''\", 'top', \"''\", '>', '<', 'p', '>', 'removal', 'shares', 'jersey', 'jse', 'registers', 'permissible', '<', '/p', '>', '<', '/td', '>', '<', 'td', 'valign=', \"''\", 'top', \"''\", '>', '<', 'p', '>', 'monday', '10', 'september', '<', '/p', '>', '<', '/td', '>', '<', '/tr', '>', '<', 'tr', '>', '<', 'td', 'valign=', \"''\", 'top', \"''\", '>', '<', 'p', '>', 'applicable', 'exchange', 'rate', 'reference', 'date', '(', 'jersey', ')', '<', '/p', '>', '<', '/td', '>', '<', 'td', 'valign=', \"''\", 'top', \"''\", '>', '<', 'p', '>', 'wednesday', '12', 'september', '<', '/p', '>', '<', '/td', '>', '<', '/tr', '>', '<', 'tr', '>', '<', 'td', 'valign=', \"''\", 'top', \"''\", '>', '<', 'p', '>', 'h2', 'distribution', 'payment', 'date', '<', '/p', '>', '<', '/td', '>', '<', 'td', 'valign=', \"''\", 'top', \"''\", '>', '<', 'p', '>', 'thursday', '27', 'september', '<', '/p', '>', '<', '/td', '>', '<', '/tr', '>', '<', '/tbody', '>', '<', '/table', '>', '<', 'p', '>', 'dematerialisation', 'rematerialisation', 'registered', 'share', 'certificates', 'south', 'africa', 'may', 'effected', 'period', 'wednesday', '5', 'september', '2018', 'friday', '7', 'september', '2018', ',', 'days', 'inclusive.', '<', '/p', '>', '<', 'p', '>', 'purposes', 'jse', 'listing', 'requirements', ',', 'distribution', 'considered', 'final', 'distribution', '.', 'information', 'relation', 'jse', 'listing', 'requirements', 'announced', '13', 'april', '28', 'august.', '<', '/p', '>', '<', 'p', '>', '<', 'strong', '>', 'information', 'please', 'contact', ':', '<', '/strong', '>', '<', '/p', '>', '<', 'p', '>', '<', 'strong', '>', 'distribution', 'enquiries', '<', '/strong', '>', '<', 'br', '/', '>', 'nicola', 'leigh', '<', 'br', '/', '>', ':', '+41', '41', '709', '2755', '<', 'br', '/', '>', ':', '+41', '79', '735', '3916', '<', 'br', '/', '>', 'nicola.leigh', '@', 'glencore.com', '<', '/p', '>', '<', 'p', '>', '<', 'strong', '>', 'investors', '<', '/strong', '>', '<', 'br', '/', '>', 'martin', 'fewings', '<', 'br', '/', '>', ':', '+41', '41', '709', '2880', '<', 'br', '/', '>', ':', '+41', '79', '737', '5642', '<', 'br', '/', '>', 'martin.fewings', '@', 'glencore.com', '<', '/p', '>', '<', 'p', '>', 'ash', 'lazenby', '<', 'br', '/', '>', ':', '+41', '41', '709', '27', '14', '<', 'br', '/', '>', ':', '+41', '79', '543', '38', '04', '<', 'br', '/', '>', 'ash.lazenby', '@', 'glencore.com', '<', '/p', '>', '<', 'p', '>', '<', 'strong', '>', 'media', '<', '/strong', '>', '<', 'br', '/', '>', 'charles', 'watenphul', '<', 'br', '/', '>', ':', '+41', '41', '709', '2462', '<', 'br', '/', '>', ':', '+41', '79', '904', '3320', '<', 'br', '/', '>', 'charles.watenphul', '@', 'glencore.com', '<', '/p', '>', '<', 'p', 'align=', \"''\", 'left', \"''\", '>', '<', 'href=', \"''\", 'http', ':', '//www.glencore.com', \"''\", '>', 'www.glencore.com', '<', '/a', '>', '<', '/p', '>', '<', 'p', '>', '<', 'strong', '>', 'glencore', 'lei', ':', '<', '/strong', '>', '2138002658cpo9nbh955', '<', 'br', '/', '>', '<', 'br', '/', '>', '<', 'strong', '>', 'notes', 'editors', '<', '/strong', '>', '<', 'br', '/', '>', 'glencore', 'one', 'world', '&', 'rsquo', ';', 'largest', 'global', 'diversified', 'natural', 'resource', 'companies', 'major', 'producer', 'marketer', '90', 'commodities', '.', 'group', '&', '#', '39', ';', 'operations', 'comprise', 'around', '150', 'mining', 'metallurgical', 'sites', ',', 'oil', 'production', 'assets', 'agricultural', 'facilities.', '<', '/p', '>', '<', 'p', '>', 'strong', 'footprint', 'established', 'emerging', 'regions', 'natural', 'resources', ',', 'glencore', '&', '#', '39', ';', 'industrial', 'marketing', 'activities', 'supported', 'global', 'network', '90', 'offices', 'located', '50', 'countries.', '<', '/p', '>', '<', 'p', '>', 'glencore', '&', '#', '39', ';', 'customers', 'industrial', 'consumers', ',', 'automotive', ',', 'steel', ',', 'power', 'generation', ',', 'oil', 'food', 'processing', 'sectors', '.', 'also', 'provide', 'financing', ',', 'logistics', 'services', 'producers', 'consumers', 'commodities', '.', 'glencore', '&', '#', '39', ';', 'companies', 'employ', 'around', '146,000', 'people', ',', 'including', 'contractors.', '<', '/p', '>', '<', 'p', '>', 'glencore', 'proud', 'member', 'voluntary', 'principles', 'security', 'human', 'rights', 'international', 'council', 'mining', 'metals', '.', 'active', 'participant', 'extractive', 'industries', 'transparency', 'initiative.', '<', '/p', '>', '<', 'p', '>', '<', 'strong', '>', '<', 'em', '>', 'disclaimer', '<', '/em', '>', '<', '/strong', '>', '<', 'br', '/', '>', '<', 'em', '>', 'companies', 'glencore', 'plc', 'directly', 'indirectly', 'interest', 'separate', 'distinct', 'legal', 'entities', '.', 'document', ',', '&', 'ldquo', ';', 'glencore', '&', 'rdquo', ';', ',', '&', 'ldquo', ';', 'glencore', 'group', '&', 'rdquo', ';', '&', 'ldquo', ';', 'group', '&', 'rdquo', ';', 'used', 'convenience', 'references', 'made', 'glencore', 'plc', 'subsidiaries', 'general', '.', 'collective', 'expressions', 'used', 'ease', 'reference', 'imply', 'relationship', 'companies.', '&', 'nbsp', ';', 'likewise', ',', 'words', '&', 'ldquo', ';', '&', 'rdquo', ';', ',', '&', 'ldquo', ';', 'us', '&', 'rdquo', ';', '&', 'ldquo', ';', '&', 'rdquo', ';', 'also', 'used', 'refer', 'collectively', 'members', 'group', 'work', '.', 'expressions', 'also', 'used', 'useful', 'purpose', 'served', 'identifying', 'particular', 'company', 'companies.', '<', '/em', '>', '<', '/p', '>', '<', 'p', '>', '&', 'nbsp', ';', '<', '/p', '>', '<', 'p', '>', '<', 'strong', '>', '<', 'class=', \"''\", 'glencore-link', \"''\", 'href=', \"''\", '$', '{', 'link', ':', '{', 'uuid', ':', '{', '56ee93e2-b8f0-4e88-9cfa-842bc08e9429', '}', ',', 'repository', ':', '{', 'dam', '}', ',', 'path', ':', '{', '/index/who-we-are/our-leadership', '?', 'uuid=56ee93e2-b8f0-4e88-9cfa-842bc08e9429', '}', '}', '}', \"''\", '>', '<', 'span', 'class=', \"''\", 'glencore-link__text', \"''\", '>', 'download', 'pdf', '<', '/span', '>', '<', '/a', '>', '<', '/strong', '>', '<', '/p', '>', ']', ']']\n"
     ]
    }
   ],
   "source": [
    "texts_nstopwords = [[word for word in document if not word in english_stopwords] for document in texts_tokenized]\n",
    "print(texts_nstopwords[0])"
   ]
  },
  {
   "cell_type": "code",
   "execution_count": 29,
   "metadata": {},
   "outputs": [],
   "source": [
    "english_punctuations = [',', '.', ':', ';', '?', '(', ')', '&', '!', '*', '@', '#', '$', '%', '>', '<', '[' , ']']\n",
    "texts_filtered = [[word for word in document if not word in english_punctuations] for document in texts_nstopwords]"
   ]
  },
  {
   "cell_type": "code",
   "execution_count": 31,
   "metadata": {},
   "outputs": [],
   "source": [
    "from nltk.stem.lancaster import LancasterStemmer"
   ]
  },
  {
   "cell_type": "code",
   "execution_count": 32,
   "metadata": {},
   "outputs": [],
   "source": [
    "st = LancasterStemmer()"
   ]
  },
  {
   "cell_type": "code",
   "execution_count": 33,
   "metadata": {},
   "outputs": [
    {
     "data": {
      "text/plain": [
       "'stem'"
      ]
     },
     "execution_count": 33,
     "metadata": {},
     "output_type": "execute_result"
    }
   ],
   "source": [
    "st.stem('stemmed')"
   ]
  },
  {
   "cell_type": "code",
   "execution_count": 34,
   "metadata": {},
   "outputs": [],
   "source": [
    "texts_stemmed = [[st.stem(word) for word in docment] for docment in texts_filtered]"
   ]
  },
  {
   "cell_type": "code",
   "execution_count": 36,
   "metadata": {},
   "outputs": [],
   "source": [
    "all_stems = sum(texts_stemmed, [])"
   ]
  },
  {
   "cell_type": "code",
   "execution_count": 37,
   "metadata": {},
   "outputs": [],
   "source": [
    "stems_once = set(stem for stem in set(all_stems) if all_stems.count(stem) == 1)"
   ]
  },
  {
   "cell_type": "code",
   "execution_count": 38,
   "metadata": {},
   "outputs": [],
   "source": [
    "texts = [[stem for stem in text if stem not in stems_once] for text in texts_stemmed]"
   ]
  },
  {
   "cell_type": "code",
   "execution_count": 39,
   "metadata": {},
   "outputs": [],
   "source": [
    "from gensim import corpora, models, similarities"
   ]
  },
  {
   "cell_type": "code",
   "execution_count": 40,
   "metadata": {},
   "outputs": [],
   "source": [
    "import logging"
   ]
  },
  {
   "cell_type": "code",
   "execution_count": 41,
   "metadata": {},
   "outputs": [],
   "source": [
    "logging.basicConfig(format='%(asctime)s : %(levelname)s : %(message)s', level=logging.INFO)"
   ]
  },
  {
   "cell_type": "code",
   "execution_count": 42,
   "metadata": {},
   "outputs": [
    {
     "name": "stderr",
     "output_type": "stream",
     "text": [
      "2018-08-21 14:13:12,825 : INFO : adding document #0 to Dictionary(0 unique tokens: [])\n",
      "2018-08-21 14:13:12,895 : INFO : built Dictionary(2213 unique tokens: [\"''\", '+41', '/', '//www.glencore.com', '/a']...) from 136 documents (total 50635 corpus positions)\n"
     ]
    }
   ],
   "source": [
    "dictionary = corpora.Dictionary(texts)"
   ]
  },
  {
   "cell_type": "code",
   "execution_count": 43,
   "metadata": {},
   "outputs": [],
   "source": [
    "corpus = [dictionary.doc2bow(text) for text in texts]"
   ]
  },
  {
   "cell_type": "code",
   "execution_count": 44,
   "metadata": {},
   "outputs": [
    {
     "name": "stderr",
     "output_type": "stream",
     "text": [
      "2018-08-21 14:13:51,790 : INFO : collecting document frequencies\n",
      "2018-08-21 14:13:51,792 : INFO : PROGRESS: processing document #0\n",
      "2018-08-21 14:13:51,805 : INFO : calculating IDF weights for 136 documents and 2212 features (21358 matrix non-zeros)\n"
     ]
    }
   ],
   "source": [
    " tfidf = models.TfidfModel(corpus)"
   ]
  },
  {
   "cell_type": "code",
   "execution_count": 45,
   "metadata": {},
   "outputs": [],
   "source": [
    "corpus_tfidf = tfidf[corpus]"
   ]
  },
  {
   "cell_type": "code",
   "execution_count": 46,
   "metadata": {},
   "outputs": [
    {
     "name": "stderr",
     "output_type": "stream",
     "text": [
      "2018-08-21 14:15:01,617 : INFO : using serial LSI version on this node\n",
      "2018-08-21 14:15:01,619 : INFO : updating model with new documents\n",
      "2018-08-21 14:15:01,884 : INFO : preparing a new chunk of documents\n",
      "2018-08-21 14:15:01,908 : INFO : using 100 extra samples and 2 power iterations\n",
      "2018-08-21 14:15:01,909 : INFO : 1st phase: constructing (2213, 110) action matrix\n",
      "2018-08-21 14:15:01,925 : INFO : orthonormalizing (2213, 110) action matrix\n",
      "2018-08-21 14:15:02,087 : INFO : 2nd phase: running dense svd on (110, 136) matrix\n",
      "2018-08-21 14:15:02,120 : INFO : computing the final decomposition\n",
      "2018-08-21 14:15:02,123 : INFO : keeping 10 factors (discarding 43.074% of energy spectrum)\n",
      "2018-08-21 14:15:02,136 : INFO : processed documents up to #136\n",
      "2018-08-21 14:15:02,146 : INFO : topic #0(5.477): 1.000*\"nan\" + 0.000*\"+41\" + -0.000*\"/\" + 0.000*\"''\" + 0.000*\"td\" + 0.000*\"valign=\" + 0.000*\"/index/who-we-are/our-leadership\" + 0.000*\"width=\" + 0.000*\"top\" + 0.000*\"/tr\"\n",
      "2018-08-21 14:15:02,148 : INFO : topic #1(4.025): 0.353*\"br\" + 0.342*\"/\" + 0.216*\"nbsp\" + 0.206*\"''\" + 0.173*\"p\" + 0.173*\"/p\" + 0.159*\"-\" + 0.157*\"+41\" + 0.134*\"li\" + 0.134*\"/li\"\n",
      "2018-08-21 14:15:02,150 : INFO : topic #2(2.388): -0.346*\"-\" + -0.220*\"br\" + 0.195*\"/li\" + 0.195*\"li\" + -0.181*\"/\" + -0.174*\"fre\" + -0.172*\"phon\" + 0.144*\"''\" + -0.140*\"0\" + 0.115*\"ton\"\n",
      "2018-08-21 14:15:02,152 : INFO : topic #3(2.186): 0.324*\"''\" + 0.320*\"td\" + 0.320*\"/td\" + 0.303*\"valign=\" + 0.251*\"top\" + 0.219*\"width=\" + 0.128*\"-\" + -0.123*\"/li\" + -0.123*\"li\" + -0.121*\"produc\"\n",
      "2018-08-21 14:15:02,155 : INFO : topic #4(2.081): -0.227*\"amount\" + 0.218*\"/td\" + 0.218*\"td\" + -0.214*\"purchas\" + -0.210*\"u.s.\" + 0.206*\"valign=\" + -0.200*\"tend\" + 0.167*\"top\" + 0.160*\"''\" + 0.159*\"li\"\n"
     ]
    }
   ],
   "source": [
    "lsi = models.LsiModel(corpus_tfidf, id2word=dictionary, num_topics=10)"
   ]
  },
  {
   "cell_type": "code",
   "execution_count": 49,
   "metadata": {},
   "outputs": [
    {
     "name": "stderr",
     "output_type": "stream",
     "text": [
      "2018-08-21 14:21:04,685 : WARNING : scanning corpus to determine the number of features (consider setting `num_features` explicitly)\n",
      "2018-08-21 14:21:04,718 : INFO : creating matrix with 136 documents and 10 features\n"
     ]
    }
   ],
   "source": [
    "index = similarities.MatrixSimilarity(lsi[corpus])"
   ]
  },
  {
   "cell_type": "code",
   "execution_count": 52,
   "metadata": {},
   "outputs": [
    {
     "name": "stdout",
     "output_type": "stream",
     "text": [
      "[(1, 94.36106668820437), (2, 34.075254712069956), (3, 121.68830756940838), (4, 62.01745165033903), (5, 37.76573343242043), (6, -2.020686107228405), (7, 18.742595001332326), (8, -4.37501005460515), (9, 3.2656228890751366)]\n"
     ]
    }
   ],
   "source": [
    "example = texts[0]\n",
    "exbow = dictionary.doc2bow(example)\n",
    "ex_lsi = lsi[exbow]\n",
    "print(ex_lsi)"
   ]
  },
  {
   "cell_type": "code",
   "execution_count": 53,
   "metadata": {},
   "outputs": [],
   "source": [
    "sims = index[ex_lsi]\n",
    "sort_sims = sorted(enumerate(sims), key=lambda item: -item[1])"
   ]
  },
  {
   "cell_type": "code",
   "execution_count": 55,
   "metadata": {},
   "outputs": [
    {
     "name": "stdout",
     "output_type": "stream",
     "text": [
      "[(0, 1.0), (25, 1.0), (40, 0.99014145), (16, 0.97376674), (7, 0.9725734), (12, 0.97251433), (8, 0.8888424), (26, 0.6752852), (96, 0.6752852), (49, 0.6571536)]\n"
     ]
    }
   ],
   "source": [
    "print(sort_sims[0:10])"
   ]
  },
  {
   "cell_type": "code",
   "execution_count": null,
   "metadata": {},
   "outputs": [],
   "source": []
  }
 ],
 "metadata": {
  "kernelspec": {
   "display_name": "Python 3",
   "language": "python",
   "name": "python3"
  },
  "language_info": {
   "codemirror_mode": {
    "name": "ipython",
    "version": 3
   },
   "file_extension": ".py",
   "mimetype": "text/x-python",
   "name": "python",
   "nbconvert_exporter": "python",
   "pygments_lexer": "ipython3",
   "version": "3.6.4"
  }
 },
 "nbformat": 4,
 "nbformat_minor": 2
}
