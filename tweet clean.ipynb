{
 "cells": [
  {
   "cell_type": "code",
   "execution_count": 2,
   "metadata": {},
   "outputs": [],
   "source": [
    "import pandas\n",
    "import gzip\n",
    "import pickle\n",
    "import os"
   ]
  },
  {
   "cell_type": "code",
   "execution_count": 5,
   "metadata": {},
   "outputs": [],
   "source": [
    "with gzip.open('2018-08-Pilot-EN/Twitter-DMITCAT/UK_BT_Group_tweets.pkl.gz', 'rb') as f:\n",
    "    bt_tweets = pickle.load(f)"
   ]
  },
  {
   "cell_type": "code",
   "execution_count": 7,
   "metadata": {},
   "outputs": [],
   "source": [
    "count = bt_tweets['text'].str.split().apply(len).value_counts()\n",
    "count.index = count.index.astype(str) + ' words:'\n",
    "count.sort_index(inplace=True)"
   ]
  },
  {
   "cell_type": "code",
   "execution_count": 8,
   "metadata": {},
   "outputs": [
    {
     "data": {
      "text/plain": [
       "1 words:        34\n",
       "10 words:     9394\n",
       "11 words:    10209\n",
       "12 words:    12010\n",
       "13 words:    12560\n",
       "14 words:    22342\n",
       "15 words:    18026\n",
       "16 words:    17724\n",
       "17 words:    17520\n",
       "18 words:    14321\n",
       "19 words:    20043\n",
       "2 words:      2258\n",
       "20 words:    16167\n",
       "21 words:    15969\n",
       "22 words:    23188\n",
       "23 words:    46671\n",
       "24 words:    19086\n",
       "25 words:    15447\n",
       "26 words:    28373\n",
       "27 words:     9889\n",
       "28 words:     8242\n",
       "29 words:     6541\n",
       "3 words:      3967\n",
       "30 words:     5079\n",
       "31 words:     4014\n",
       "32 words:     3310\n",
       "33 words:     2881\n",
       "34 words:     2780\n",
       "35 words:     2651\n",
       "36 words:     2512\n",
       "             ...  \n",
       "45 words:     3361\n",
       "46 words:     2915\n",
       "47 words:     2757\n",
       "48 words:     2249\n",
       "49 words:     2084\n",
       "5 words:      6113\n",
       "50 words:     1630\n",
       "51 words:     1245\n",
       "52 words:      964\n",
       "53 words:      627\n",
       "54 words:      476\n",
       "55 words:      293\n",
       "56 words:      182\n",
       "57 words:      123\n",
       "58 words:       89\n",
       "59 words:       51\n",
       "6 words:      7112\n",
       "60 words:       28\n",
       "61 words:       30\n",
       "62 words:       13\n",
       "63 words:       10\n",
       "64 words:        6\n",
       "65 words:        5\n",
       "66 words:        2\n",
       "67 words:        3\n",
       "7 words:      7710\n",
       "70 words:        1\n",
       "72 words:        1\n",
       "8 words:      8329\n",
       "9 words:      8547\n",
       "Name: text, Length: 69, dtype: int64"
      ]
     },
     "execution_count": 8,
     "metadata": {},
     "output_type": "execute_result"
    }
   ],
   "source": [
    "count"
   ]
  },
  {
   "cell_type": "code",
   "execution_count": 13,
   "metadata": {},
   "outputs": [],
   "source": [
    "bt_tweets_clean = bt_tweets[bt_tweets.text.str.count(' ') > 10]\n",
    "#drop tweets with less than 10 words, because we consider these words contain less information \n",
    "#don't have clue how to detect and drop irrelevant tweets"
   ]
  },
  {
   "cell_type": "code",
   "execution_count": 14,
   "metadata": {},
   "outputs": [
    {
     "data": {
      "text/plain": [
       "386212"
      ]
     },
     "execution_count": 14,
     "metadata": {},
     "output_type": "execute_result"
    }
   ],
   "source": [
    "len(bt_tweets_clean.index)"
   ]
  },
  {
   "cell_type": "code",
   "execution_count": 3,
   "metadata": {},
   "outputs": [],
   "source": [
    "with gzip.open('2018-08-Pilot-EN/Twitter-DMITCAT/UK_NationalGrid_tweets.pkl.gz', 'rb') as f:\n",
    "    ng_tweets = pickle.load(f)"
   ]
  },
  {
   "cell_type": "code",
   "execution_count": 7,
   "metadata": {},
   "outputs": [
    {
     "data": {
      "text/plain": [
       "202136"
      ]
     },
     "execution_count": 7,
     "metadata": {},
     "output_type": "execute_result"
    }
   ],
   "source": [
    "len(ng_tweets.index)"
   ]
  },
  {
   "cell_type": "code",
   "execution_count": 4,
   "metadata": {},
   "outputs": [],
   "source": [
    "count = ng_tweets['text'].str.split().apply(len).value_counts()\n",
    "count.index = count.index.astype(str) + ' words:'\n",
    "count.sort_index(inplace=True)"
   ]
  },
  {
   "cell_type": "code",
   "execution_count": 5,
   "metadata": {},
   "outputs": [],
   "source": [
    "ng_tweets_clean = ng_tweets[ng_tweets.text.str.count(' ') > 10]"
   ]
  },
  {
   "cell_type": "code",
   "execution_count": 6,
   "metadata": {},
   "outputs": [
    {
     "data": {
      "text/plain": [
       "182989"
      ]
     },
     "execution_count": 6,
     "metadata": {},
     "output_type": "execute_result"
    }
   ],
   "source": [
    "len(ng_tweets_clean.index)"
   ]
  },
  {
   "cell_type": "code",
   "execution_count": 8,
   "metadata": {},
   "outputs": [],
   "source": [
    "with gzip.open('2018-08-Pilot-EN/Twitter-DMITCAT/UK_Unilever_tweets.pkl.gz', 'rb') as f:\n",
    "    uni_tweets = pickle.load(f)"
   ]
  },
  {
   "cell_type": "code",
   "execution_count": 9,
   "metadata": {},
   "outputs": [
    {
     "data": {
      "text/plain": [
       "333664"
      ]
     },
     "execution_count": 9,
     "metadata": {},
     "output_type": "execute_result"
    }
   ],
   "source": [
    "len(uni_tweets.index)"
   ]
  },
  {
   "cell_type": "code",
   "execution_count": 10,
   "metadata": {},
   "outputs": [],
   "source": [
    "count = uni_tweets['text'].str.split().apply(len).value_counts()\n",
    "count.index = count.index.astype(str) + ' words:'\n",
    "count.sort_index(inplace=True)"
   ]
  },
  {
   "cell_type": "code",
   "execution_count": 11,
   "metadata": {},
   "outputs": [],
   "source": [
    "uni_tweets_clean = uni_tweets[uni_tweets.text.str.count(' ') > 10]"
   ]
  },
  {
   "cell_type": "code",
   "execution_count": 12,
   "metadata": {},
   "outputs": [
    {
     "data": {
      "text/plain": [
       "282860"
      ]
     },
     "execution_count": 12,
     "metadata": {},
     "output_type": "execute_result"
    }
   ],
   "source": [
    "len(uni_tweets_clean.index)"
   ]
  },
  {
   "cell_type": "code",
   "execution_count": null,
   "metadata": {},
   "outputs": [],
   "source": [
    "#literature: Yang, X., Macdonald, C., & Ounis, I. (2018). Using word embeddings in twitter election classification. Information Retrieval Journal, 21(2-3), 183-207."
   ]
  }
 ],
 "metadata": {
  "kernelspec": {
   "display_name": "Python 3",
   "language": "python",
   "name": "python3"
  },
  "language_info": {
   "codemirror_mode": {
    "name": "ipython",
    "version": 3
   },
   "file_extension": ".py",
   "mimetype": "text/x-python",
   "name": "python",
   "nbconvert_exporter": "python",
   "pygments_lexer": "ipython3",
   "version": "3.6.4"
  }
 },
 "nbformat": 4,
 "nbformat_minor": 2
}
